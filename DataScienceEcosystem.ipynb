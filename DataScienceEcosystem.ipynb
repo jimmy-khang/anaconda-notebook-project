{
 "cells": [
  {
   "cell_type": "markdown",
   "id": "403d5310-f48e-4194-ad84-752e8195e778",
   "metadata": {},
   "source": [
    "# Data Science Tools and Ecosystem"
   ]
  },
  {
   "cell_type": "markdown",
   "id": "d304d814-d294-40f0-a338-803f962d6bfd",
   "metadata": {},
   "source": [
    "In this notebook, Data Science Tools and Ecosystem are summarized:"
   ]
  },
  {
   "cell_type": "markdown",
   "id": "b6b3e8b8-090a-4993-b907-fc611580fee1",
   "metadata": {},
   "source": [
    "__Objectives:__\n",
    "- List commonly used libraries for Data Science\n",
    "- List popular languages used for Data Science\n",
    "- List Data Science Tools used for Data Science"
   ]
  },
  {
   "cell_type": "markdown",
   "id": "87059253-fded-48a5-8833-74775130a990",
   "metadata": {},
   "source": [
    "## Author\n",
    "Jimmy Khang"
   ]
  },
  {
   "cell_type": "markdown",
   "id": "cd2386fb-e1e2-4aba-9999-0b7f897818e6",
   "metadata": {},
   "source": [
    "Some of the popular languages that Data Scientist use are:\n",
    "1. Julia\n",
    "2. R\n",
    "3. Python"
   ]
  },
  {
   "cell_type": "markdown",
   "id": "3f0a8fbf-7bb2-4a6d-a275-59811f1a53f7",
   "metadata": {},
   "source": [
    "Some of the commonly used libraries used by Data Scientists include:\n",
    "1. Numpy \n",
    "2. Pandas \n",
    "3. Tidyverse "
   ]
  },
  {
   "cell_type": "markdown",
   "id": "11ba2b6c-8a3d-4a2f-aa95-ac873596d4f7",
   "metadata": {},
   "source": [
    "| Data Science Tools |\n",
    "|--------------------|\n",
    "|1. Apache Spark |\n",
    "|2. Hadoop |\n",
    "|3. Tableau |"
   ]
  },
  {
   "cell_type": "markdown",
   "id": "dcf6f33b-0530-4e88-9815-ab80c35c57c3",
   "metadata": {},
   "source": [
    "### Below are a few examples of evaluating arithmetic expressions in Python"
   ]
  },
  {
   "cell_type": "markdown",
   "id": "4ec5e9db-a129-44e1-ba4b-a409966d9c2f",
   "metadata": {},
   "source": [
    "This a simple arithmetic expression to mutiply then add integers\n"
   ]
  },
  {
   "cell_type": "code",
   "execution_count": null,
   "id": "9245fc36-8583-484d-ac17-4c59371063d0",
   "metadata": {},
   "outputs": [
    {
     "data": {
      "text/plain": [
       "17"
      ]
     },
     "execution_count": 23,
     "metadata": {},
     "output_type": "execute_result"
    }
   ],
   "source": [
    "(3*4)+5"
   ]
  },
  {
   "cell_type": "markdown",
   "id": "bb165e7d-3177-49e0-8c1b-5f7ae7776b25",
   "metadata": {},
   "source": [
    "This will convert 200 minutes to hours by diving by 60\n"
   ]
  },
  {
   "cell_type": "code",
   "execution_count": 25,
   "id": "712e4b0e-9881-473c-bfe9-0f9f28e7a446",
   "metadata": {},
   "outputs": [
    {
     "data": {
      "text/plain": [
       "3.3333333333333335"
      ]
     },
     "execution_count": 25,
     "metadata": {},
     "output_type": "execute_result"
    }
   ],
   "source": [
    "200/60"
   ]
  }
 ],
 "metadata": {
  "kernelspec": {
   "display_name": "anaconda-2022.05-py39",
   "language": "python",
   "name": "conda-env-anaconda-2022.05-py39-py"
  },
  "language_info": {
   "codemirror_mode": {
    "name": "ipython",
    "version": 3
   },
   "file_extension": ".py",
   "mimetype": "text/x-python",
   "name": "python",
   "nbconvert_exporter": "python",
   "pygments_lexer": "ipython3",
   "version": "3.9.12"
  }
 },
 "nbformat": 4,
 "nbformat_minor": 5
}
